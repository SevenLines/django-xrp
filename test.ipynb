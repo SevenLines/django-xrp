{
 "cells": [
  {
   "cell_type": "code",
   "execution_count": 1,
   "metadata": {},
   "outputs": [],
   "source": [
    "import django\n",
    "django.setup()\n",
    "from main.models import *"
   ]
  },
  {
   "cell_type": "code",
   "execution_count": 7,
   "metadata": {},
   "outputs": [],
   "source": [
    "from main.models import *"
   ]
  },
  {
   "cell_type": "code",
   "execution_count": 3,
   "metadata": {},
   "outputs": [],
   "source": [
    "ticket = Ticker.objects.first()"
   ]
  },
  {
   "cell_type": "code",
   "execution_count": 9,
   "metadata": {},
   "outputs": [
    {
     "data": {
      "text/plain": [
       "<QuerySet [{'buy_price': Decimal('12270.00000000')}, {'buy_price': Decimal('12270.00000000')}, {'buy_price': Decimal('12270.00000000')}, {'buy_price': Decimal('12249.61000000')}, {'buy_price': Decimal('12249.61000000')}, {'buy_price': Decimal('12249.60000000')}, {'buy_price': Decimal('12249.58000000')}, {'buy_price': Decimal('12249.57000000')}, {'buy_price': Decimal('12249.57000000')}, {'buy_price': Decimal('12249.55000000')}, {'buy_price': Decimal('12249.55000000')}, {'buy_price': Decimal('12249.52000000')}, {'buy_price': Decimal('12249.53000000')}, {'buy_price': Decimal('12249.50612473')}, {'buy_price': Decimal('12249.52000000')}, {'buy_price': Decimal('12249.54000000')}, {'buy_price': Decimal('12249.50612473')}, {'buy_price': Decimal('12249.50612473')}, {'buy_price': Decimal('12249.50612473')}, {'buy_price': Decimal('12270.00000000')}, '...(remaining elements truncated)...']>"
      ]
     },
     "execution_count": 9,
     "metadata": {},
     "output_type": "execute_result"
    }
   ],
   "source": [
    "Ticker.objects.values(\"buy_price\").order_by(\"-updated\")"
   ]
  }
 ],
 "metadata": {
  "kernelspec": {
   "display_name": "Python 3",
   "language": "python",
   "name": "python3"
  },
  "language_info": {
   "codemirror_mode": {
    "name": "ipython",
    "version": 3
   },
   "file_extension": ".py",
   "mimetype": "text/x-python",
   "name": "python",
   "nbconvert_exporter": "python",
   "pygments_lexer": "ipython3",
   "version": "3.6.3"
  }
 },
 "nbformat": 4,
 "nbformat_minor": 1
}
